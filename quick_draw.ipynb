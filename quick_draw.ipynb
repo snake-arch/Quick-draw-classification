{
  "nbformat": 4,
  "nbformat_minor": 0,
  "metadata": {
    "colab": {
      "name": "quick-draw.ipynb",
      "provenance": [],
      "collapsed_sections": []
    },
    "kernelspec": {
      "name": "python3",
      "display_name": "Python 3"
    },
    "accelerator": "GPU"
  },
  "cells": [
    {
      "cell_type": "code",
      "metadata": {
        "colab": {
          "base_uri": "https://localhost:8080/"
        },
        "id": "IeguvBPJDFQn",
        "outputId": "40373559-43dc-4ba6-97ea-03ef08946363"
      },
      "source": [
        "import math\n",
        "def _sigmoid(h):\n",
        "  y=1.0/(1+math.exp(-h))\n",
        "  return y\n",
        "def activation(inputs,weights):\n",
        "  sum=0\n",
        "  for i,j in zip(inputs,weights):\n",
        "    sum=sum+i*j\n",
        "  return _sigmoid(sum)\n",
        "\n",
        "\n",
        "inputs=[.5,.3,.2]\n",
        "weights=[.4,.7,.2]\n",
        "output=activation(inputs,weights)\n",
        "print(output)\n",
        "x=3\n",
        "y=[3,5]\n",
        "z=5\n",
        "layers = [x]+y+[z]\n",
        "print(layers)"
      ],
      "execution_count": null,
      "outputs": [
        {
          "output_type": "stream",
          "text": [
            "0.610639233949222\n",
            "[3, 3, 5, 5]\n"
          ],
          "name": "stdout"
        }
      ]
    },
    {
      "cell_type": "code",
      "metadata": {
        "colab": {
          "base_uri": "https://localhost:8080/"
        },
        "id": "Qow6iZO-nPd_",
        "outputId": "87128653-963b-4e1c-d805-3825988ddf4b"
      },
      "source": [
        "import numpy as np\n",
        "class MLP:\n",
        "  def __init__(self,num_inputs=3,num_hidden=[3,5],num_outputs=2):\n",
        "    self.num_inputs=num_inputs\n",
        "    self.num_hidden=num_hidden\n",
        "    self.num_outputs=num_outputs\n",
        "    layers = [self.num_inputs]+self.num_hidden+[self.num_outputs]\n",
        "    self.weights=[]\n",
        "    for i in range(len(layers)-1):\n",
        "      w=np.random.rand(layers[i],layers[i+1])\n",
        "      self.weights.append(w)\n",
        "  def sigmoid(self,h):\n",
        "    y=1.0/(1+np.exp(-h))\n",
        "    return y\n",
        "  def forward_prop(self,input):\n",
        "    activations=inputs\n",
        "    for w in self.weights:\n",
        "      net_inputs=np.dot(activations,w)\n",
        "      activations= self.sigmoid(net_inputs)\n",
        "    return activations  \n",
        "\n",
        "mlp=MLP()\n",
        "inputx = np.random.rand(mlp.num_inputs)\n",
        "outputs=mlp.forward_prop(inputx)\n",
        "print(inputx)\n",
        "print(outputs)\n"
      ],
      "execution_count": null,
      "outputs": [
        {
          "output_type": "stream",
          "text": [
            "[0.38774216 0.17060795 0.77661061]\n",
            "[0.89015033 0.67023922]\n"
          ],
          "name": "stdout"
        }
      ]
    },
    {
      "cell_type": "code",
      "metadata": {
        "id": "PZBfxZfCsGJe"
      },
      "source": [
        "!mkdir tfjsmodel"
      ],
      "execution_count": null,
      "outputs": []
    },
    {
      "cell_type": "code",
      "metadata": {
        "id": "VcFOCm-6-Am-"
      },
      "source": [
        "!mkdir data"
      ],
      "execution_count": null,
      "outputs": []
    },
    {
      "cell_type": "code",
      "metadata": {
        "colab": {
          "base_uri": "https://localhost:8080/"
        },
        "id": "ML1T_eudAqBu",
        "outputId": "094da267-0c9d-4d3f-a136-32f8c3eb5350"
      },
      "source": [
        "cd data"
      ],
      "execution_count": null,
      "outputs": [
        {
          "output_type": "stream",
          "text": [
            "/content/data\n"
          ],
          "name": "stdout"
        }
      ]
    },
    {
      "cell_type": "code",
      "metadata": {
        "colab": {
          "base_uri": "https://localhost:8080/"
        },
        "id": "4FeS06O9B5Cx",
        "outputId": "6d727863-e9a4-476e-9c84-b09f01940d50"
      },
      "source": [
        "!wget https://storage.googleapis.com/quickdraw_dataset/full/numpy_bitmap/aircraft%20carrier.npy\n",
        "!wget https://storage.googleapis.com/quickdraw_dataset/full/numpy_bitmap/airplane.npy\n",
        "!wget https://storage.googleapis.com/quickdraw_dataset/full/numpy_bitmap/ambulance.npy\n",
        "!wget https://storage.googleapis.com/quickdraw_dataset/full/numpy_bitmap/bulldozer.npy\n",
        "!wget https://storage.googleapis.com/quickdraw_dataset/full/numpy_bitmap/bus.npy\n",
        "!wget https://storage.googleapis.com/quickdraw_dataset/full/numpy_bitmap/canoe.npy\n",
        "!wget https://storage.googleapis.com/quickdraw_dataset/full/numpy_bitmap/car.npy\n",
        "!wget https://storage.googleapis.com/quickdraw_dataset/full/numpy_bitmap/cruise%20ship.npy\n",
        "!wget https://storage.googleapis.com/quickdraw_dataset/full/numpy_bitmap/firetruck.npy\n",
        "!wget https://storage.googleapis.com/quickdraw_dataset/full/numpy_bitmap/flying%20saucer.npy\n",
        "!wget https://storage.googleapis.com/quickdraw_dataset/full/numpy_bitmap/helicopter.npy\n",
        "!wget https://storage.googleapis.com/quickdraw_dataset/full/numpy_bitmap/hot%20air%20balloon.npy\n",
        "!wget https://storage.googleapis.com/quickdraw_dataset/full/numpy_bitmap/pickup%20truck.npy\n",
        "!wget https://storage.googleapis.com/quickdraw_dataset/full/numpy_bitmap/sailboat.npy\n",
        "!wget https://storage.googleapis.com/quickdraw_dataset/full/numpy_bitmap/speedboat.npy\n",
        "!wget https://storage.googleapis.com/quickdraw_dataset/full/numpy_bitmap/train.npy\n"
      ],
      "execution_count": null,
      "outputs": [
        {
          "output_type": "stream",
          "text": [
            "--2021-05-04 10:51:20--  https://storage.googleapis.com/quickdraw_dataset/full/numpy_bitmap/aircraft%20carrier.npy\n",
            "Resolving storage.googleapis.com (storage.googleapis.com)... 142.250.73.240, 172.253.62.128, 172.217.7.240, ...\n",
            "Connecting to storage.googleapis.com (storage.googleapis.com)|142.250.73.240|:443... connected.\n",
            "HTTP request sent, awaiting response... 200 OK\n",
            "Length: 91339216 (87M) [application/octet-stream]\n",
            "Saving to: ‘aircraft carrier.npy’\n",
            "\n",
            "aircraft carrier.np 100%[===================>]  87.11M   149MB/s    in 0.6s    \n",
            "\n",
            "2021-05-04 10:51:21 (149 MB/s) - ‘aircraft carrier.npy’ saved [91339216/91339216]\n",
            "\n",
            "--2021-05-04 10:51:21--  https://storage.googleapis.com/quickdraw_dataset/full/numpy_bitmap/airplane.npy\n",
            "Resolving storage.googleapis.com (storage.googleapis.com)... 172.217.12.240, 142.251.33.208, 172.217.164.144, ...\n",
            "Connecting to storage.googleapis.com (storage.googleapis.com)|172.217.12.240|:443... connected.\n",
            "HTTP request sent, awaiting response... 200 OK\n",
            "Length: 118872512 (113M) [application/octet-stream]\n",
            "Saving to: ‘airplane.npy’\n",
            "\n",
            "airplane.npy        100%[===================>] 113.37M   152MB/s    in 0.7s    \n",
            "\n",
            "2021-05-04 10:51:22 (152 MB/s) - ‘airplane.npy’ saved [118872512/118872512]\n",
            "\n",
            "--2021-05-04 10:51:22--  https://storage.googleapis.com/quickdraw_dataset/full/numpy_bitmap/ambulance.npy\n",
            "Resolving storage.googleapis.com (storage.googleapis.com)... 172.217.13.80, 172.217.13.240, 172.217.164.176, ...\n",
            "Connecting to storage.googleapis.com (storage.googleapis.com)|172.217.13.80|:443... connected.\n",
            "HTTP request sent, awaiting response... 200 OK\n",
            "Length: 116035216 (111M) [application/octet-stream]\n",
            "Saving to: ‘ambulance.npy’\n",
            "\n",
            "ambulance.npy       100%[===================>] 110.66M  78.7MB/s    in 1.4s    \n",
            "\n",
            "2021-05-04 10:51:24 (78.7 MB/s) - ‘ambulance.npy’ saved [116035216/116035216]\n",
            "\n",
            "--2021-05-04 10:51:24--  https://storage.googleapis.com/quickdraw_dataset/full/numpy_bitmap/bulldozer.npy\n",
            "Resolving storage.googleapis.com (storage.googleapis.com)... 172.217.164.144, 142.250.73.208, 142.250.65.80, ...\n",
            "Connecting to storage.googleapis.com (storage.googleapis.com)|172.217.164.144|:443... connected.\n",
            "HTTP request sent, awaiting response... 200 OK\n",
            "Length: 146928736 (140M) [application/octet-stream]\n",
            "Saving to: ‘bulldozer.npy’\n",
            "\n",
            "bulldozer.npy       100%[===================>] 140.12M   139MB/s    in 1.0s    \n",
            "\n",
            "2021-05-04 10:51:25 (139 MB/s) - ‘bulldozer.npy’ saved [146928736/146928736]\n",
            "\n",
            "--2021-05-04 10:51:25--  https://storage.googleapis.com/quickdraw_dataset/full/numpy_bitmap/bus.npy\n",
            "Resolving storage.googleapis.com (storage.googleapis.com)... 172.253.122.128, 172.217.8.16, 172.253.63.128, ...\n",
            "Connecting to storage.googleapis.com (storage.googleapis.com)|172.253.122.128|:443... connected.\n",
            "HTTP request sent, awaiting response... 200 OK\n",
            "Length: 130307152 (124M) [application/octet-stream]\n",
            "Saving to: ‘bus.npy’\n",
            "\n",
            "bus.npy             100%[===================>] 124.27M   103MB/s    in 1.2s    \n",
            "\n",
            "2021-05-04 10:51:27 (103 MB/s) - ‘bus.npy’ saved [130307152/130307152]\n",
            "\n",
            "--2021-05-04 10:51:27--  https://storage.googleapis.com/quickdraw_dataset/full/numpy_bitmap/canoe.npy\n",
            "Resolving storage.googleapis.com (storage.googleapis.com)... 172.253.122.128, 172.217.8.16, 172.253.63.128, ...\n",
            "Connecting to storage.googleapis.com (storage.googleapis.com)|172.253.122.128|:443... connected.\n",
            "HTTP request sent, awaiting response... 200 OK\n",
            "Length: 97033408 (93M) [application/octet-stream]\n",
            "Saving to: ‘canoe.npy’\n",
            "\n",
            "canoe.npy           100%[===================>]  92.54M   116MB/s    in 0.8s    \n",
            "\n",
            "2021-05-04 10:51:28 (116 MB/s) - ‘canoe.npy’ saved [97033408/97033408]\n",
            "\n",
            "--2021-05-04 10:51:28--  https://storage.googleapis.com/quickdraw_dataset/full/numpy_bitmap/car.npy\n",
            "Resolving storage.googleapis.com (storage.googleapis.com)... 142.250.73.240, 172.253.62.128, 172.217.7.240, ...\n",
            "Connecting to storage.googleapis.com (storage.googleapis.com)|142.250.73.240|:443... connected.\n",
            "HTTP request sent, awaiting response... 200 OK\n",
            "Length: 143287056 (137M) [application/octet-stream]\n",
            "Saving to: ‘car.npy’\n",
            "\n",
            "car.npy             100%[===================>] 136.65M   120MB/s    in 1.1s    \n",
            "\n",
            "2021-05-04 10:51:29 (120 MB/s) - ‘car.npy’ saved [143287056/143287056]\n",
            "\n",
            "--2021-05-04 10:51:29--  https://storage.googleapis.com/quickdraw_dataset/full/numpy_bitmap/cruise%20ship.npy\n",
            "Resolving storage.googleapis.com (storage.googleapis.com)... 142.250.73.240, 172.253.62.128, 172.217.7.240, ...\n",
            "Connecting to storage.googleapis.com (storage.googleapis.com)|142.250.73.240|:443... connected.\n",
            "HTTP request sent, awaiting response... 200 OK\n",
            "Length: 96753520 (92M) [application/octet-stream]\n",
            "Saving to: ‘cruise ship.npy’\n",
            "\n",
            "cruise ship.npy     100%[===================>]  92.27M  83.3MB/s    in 1.1s    \n",
            "\n",
            "2021-05-04 10:51:30 (83.3 MB/s) - ‘cruise ship.npy’ saved [96753520/96753520]\n",
            "\n",
            "--2021-05-04 10:51:30--  https://storage.googleapis.com/quickdraw_dataset/full/numpy_bitmap/firetruck.npy\n",
            "Resolving storage.googleapis.com (storage.googleapis.com)... 142.250.65.80, 142.250.73.240, 172.253.62.128, ...\n",
            "Connecting to storage.googleapis.com (storage.googleapis.com)|142.250.65.80|:443... connected.\n",
            "HTTP request sent, awaiting response... 200 OK\n",
            "Length: 173024960 (165M) [application/octet-stream]\n",
            "Saving to: ‘firetruck.npy’\n",
            "\n",
            "firetruck.npy       100%[===================>] 165.01M   138MB/s    in 1.2s    \n",
            "\n",
            "2021-05-04 10:51:32 (138 MB/s) - ‘firetruck.npy’ saved [173024960/173024960]\n",
            "\n",
            "--2021-05-04 10:51:32--  https://storage.googleapis.com/quickdraw_dataset/full/numpy_bitmap/flying%20saucer.npy\n",
            "Resolving storage.googleapis.com (storage.googleapis.com)... 172.253.122.128, 172.217.8.16, 172.253.63.128, ...\n",
            "Connecting to storage.googleapis.com (storage.googleapis.com)|172.253.122.128|:443... connected.\n",
            "HTTP request sent, awaiting response... 200 OK\n",
            "Length: 119141424 (114M) [application/octet-stream]\n",
            "Saving to: ‘flying saucer.npy’\n",
            "\n",
            "flying saucer.npy   100%[===================>] 113.62M   145MB/s    in 0.8s    \n",
            "\n",
            "2021-05-04 10:51:33 (145 MB/s) - ‘flying saucer.npy’ saved [119141424/119141424]\n",
            "\n",
            "--2021-05-04 10:51:33--  https://storage.googleapis.com/quickdraw_dataset/full/numpy_bitmap/helicopter.npy\n",
            "Resolving storage.googleapis.com (storage.googleapis.com)... 172.217.12.240, 142.251.33.208, 172.217.164.144, ...\n",
            "Connecting to storage.googleapis.com (storage.googleapis.com)|172.217.12.240|:443... connected.\n",
            "HTTP request sent, awaiting response... 200 OK\n",
            "Length: 125391472 (120M) [application/octet-stream]\n",
            "Saving to: ‘helicopter.npy’\n",
            "\n",
            "helicopter.npy      100%[===================>] 119.58M   123MB/s    in 1.0s    \n",
            "\n",
            "2021-05-04 10:51:34 (123 MB/s) - ‘helicopter.npy’ saved [125391472/125391472]\n",
            "\n",
            "--2021-05-04 10:51:34--  https://storage.googleapis.com/quickdraw_dataset/full/numpy_bitmap/hot%20air%20balloon.npy\n",
            "Resolving storage.googleapis.com (storage.googleapis.com)... 172.253.115.128, 172.253.122.128, 172.217.8.16, ...\n",
            "Connecting to storage.googleapis.com (storage.googleapis.com)|172.253.115.128|:443... connected.\n",
            "HTTP request sent, awaiting response... 200 OK\n",
            "Length: 99058480 (94M) [application/octet-stream]\n",
            "Saving to: ‘hot air balloon.npy’\n",
            "\n",
            "hot air balloon.npy 100%[===================>]  94.47M  87.7MB/s    in 1.1s    \n",
            "\n",
            "2021-05-04 10:51:35 (87.7 MB/s) - ‘hot air balloon.npy’ saved [99058480/99058480]\n",
            "\n",
            "--2021-05-04 10:51:35--  https://storage.googleapis.com/quickdraw_dataset/full/numpy_bitmap/pickup%20truck.npy\n",
            "Resolving storage.googleapis.com (storage.googleapis.com)... 172.253.63.128, 142.250.31.128, 172.217.15.80, ...\n",
            "Connecting to storage.googleapis.com (storage.googleapis.com)|172.253.63.128|:443... connected.\n",
            "HTTP request sent, awaiting response... 200 OK\n",
            "Length: 102500240 (98M) [application/octet-stream]\n",
            "Saving to: ‘pickup truck.npy’\n",
            "\n",
            "pickup truck.npy    100%[===================>]  97.75M   134MB/s    in 0.7s    \n",
            "\n",
            "2021-05-04 10:51:36 (134 MB/s) - ‘pickup truck.npy’ saved [102500240/102500240]\n",
            "\n",
            "--2021-05-04 10:51:36--  https://storage.googleapis.com/quickdraw_dataset/full/numpy_bitmap/sailboat.npy\n",
            "Resolving storage.googleapis.com (storage.googleapis.com)... 172.253.115.128, 172.253.122.128, 172.217.8.16, ...\n",
            "Connecting to storage.googleapis.com (storage.googleapis.com)|172.253.115.128|:443... connected.\n",
            "HTTP request sent, awaiting response... 200 OK\n",
            "Length: 107020784 (102M) [application/octet-stream]\n",
            "Saving to: ‘sailboat.npy’\n",
            "\n",
            "sailboat.npy        100%[===================>] 102.06M   122MB/s    in 0.8s    \n",
            "\n",
            "2021-05-04 10:51:38 (122 MB/s) - ‘sailboat.npy’ saved [107020784/107020784]\n",
            "\n",
            "--2021-05-04 10:51:38--  https://storage.googleapis.com/quickdraw_dataset/full/numpy_bitmap/speedboat.npy\n",
            "Resolving storage.googleapis.com (storage.googleapis.com)... 172.217.13.80, 172.217.13.240, 172.217.164.176, ...\n",
            "Connecting to storage.googleapis.com (storage.googleapis.com)|172.217.13.80|:443... connected.\n",
            "HTTP request sent, awaiting response... 200 OK\n",
            "Length: 147846800 (141M) [application/octet-stream]\n",
            "Saving to: ‘speedboat.npy’\n",
            "\n",
            "speedboat.npy       100%[===================>] 141.00M   137MB/s    in 1.0s    \n",
            "\n",
            "2021-05-04 10:51:39 (137 MB/s) - ‘speedboat.npy’ saved [147846800/147846800]\n",
            "\n",
            "--2021-05-04 10:51:39--  https://storage.googleapis.com/quickdraw_dataset/full/numpy_bitmap/train.npy\n",
            "Resolving storage.googleapis.com (storage.googleapis.com)... 142.250.73.240, 172.253.62.128, 172.217.7.240, ...\n",
            "Connecting to storage.googleapis.com (storage.googleapis.com)|142.250.73.240|:443... connected.\n",
            "HTTP request sent, awaiting response... 200 OK\n",
            "Length: 100311312 (96M) [application/octet-stream]\n",
            "Saving to: ‘train.npy’\n",
            "\n",
            "train.npy           100%[===================>]  95.66M   124MB/s    in 0.8s    \n",
            "\n",
            "2021-05-04 10:51:40 (124 MB/s) - ‘train.npy’ saved [100311312/100311312]\n",
            "\n"
          ],
          "name": "stdout"
        }
      ]
    },
    {
      "cell_type": "code",
      "metadata": {
        "colab": {
          "base_uri": "https://localhost:8080/"
        },
        "id": "rtoGkf7YHZ09",
        "outputId": "924b3af2-5ba5-438c-9282-81a0e1ac56ef"
      },
      "source": [
        "!ls"
      ],
      "execution_count": null,
      "outputs": [
        {
          "output_type": "stream",
          "text": [
            "'aircraft carrier.npy'\t car.npy\t       'pickup truck.npy'\n",
            " airplane.npy\t\t'cruise ship.npy'       sailboat.npy\n",
            " ambulance.npy\t\t firetruck.npy\t        speedboat.npy\n",
            " bulldozer.npy\t\t'flying saucer.npy'     train.npy\n",
            " bus.npy\t\t helicopter.npy\n",
            " canoe.npy\t\t'hot air balloon.npy'\n"
          ],
          "name": "stdout"
        }
      ]
    },
    {
      "cell_type": "code",
      "metadata": {
        "colab": {
          "base_uri": "https://localhost:8080/"
        },
        "id": "T6OE7LGtHtf_",
        "outputId": "eccadd9d-3a8c-410d-a629-38a3b4f3f548"
      },
      "source": [
        "cd .."
      ],
      "execution_count": null,
      "outputs": [
        {
          "output_type": "stream",
          "text": [
            "/content\n"
          ],
          "name": "stdout"
        }
      ]
    },
    {
      "cell_type": "code",
      "metadata": {
        "colab": {
          "base_uri": "https://localhost:8080/"
        },
        "id": "mZUvw3ButXrk",
        "outputId": "67787f52-e4bb-4da7-87c6-23368974480b"
      },
      "source": [
        "!pip install tensorflowjs"
      ],
      "execution_count": null,
      "outputs": [
        {
          "output_type": "stream",
          "text": [
            "Collecting tensorflowjs\n",
            "\u001b[?25l  Downloading https://files.pythonhosted.org/packages/28/5a/2497b3ba86f5f1c2c7539e0bc5d957146a5ed71acfb6c66f644974af4309/tensorflowjs-3.6.0-py3-none-any.whl (63kB)\n",
            "\r\u001b[K     |█████▏                          | 10kB 20.2MB/s eta 0:00:01\r\u001b[K     |██████████▎                     | 20kB 26.2MB/s eta 0:00:01\r\u001b[K     |███████████████▍                | 30kB 20.5MB/s eta 0:00:01\r\u001b[K     |████████████████████▌           | 40kB 23.8MB/s eta 0:00:01\r\u001b[K     |█████████████████████████▊      | 51kB 23.2MB/s eta 0:00:01\r\u001b[K     |██████████████████████████████▉ | 61kB 16.8MB/s eta 0:00:01\r\u001b[K     |████████████████████████████████| 71kB 7.2MB/s \n",
            "\u001b[?25hRequirement already satisfied: six<2,>=1.12.0 in /usr/local/lib/python3.7/dist-packages (from tensorflowjs) (1.15.0)\n",
            "Collecting tensorflow-hub<0.10,>=0.7.0\n",
            "\u001b[?25l  Downloading https://files.pythonhosted.org/packages/ac/83/a7df82744a794107641dad1decaad017d82e25f0e1f761ac9204829eef96/tensorflow_hub-0.9.0-py2.py3-none-any.whl (103kB)\n",
            "\r\u001b[K     |███▏                            | 10kB 28.3MB/s eta 0:00:01\r\u001b[K     |██████▍                         | 20kB 35.8MB/s eta 0:00:01\r\u001b[K     |█████████▌                      | 30kB 38.9MB/s eta 0:00:01\r\u001b[K     |████████████▊                   | 40kB 39.8MB/s eta 0:00:01\r\u001b[K     |███████████████▉                | 51kB 26.5MB/s eta 0:00:01\r\u001b[K     |███████████████████             | 61kB 27.6MB/s eta 0:00:01\r\u001b[K     |██████████████████████▏         | 71kB 28.7MB/s eta 0:00:01\r\u001b[K     |█████████████████████████▍      | 81kB 29.9MB/s eta 0:00:01\r\u001b[K     |████████████████████████████▋   | 92kB 27.2MB/s eta 0:00:01\r\u001b[K     |███████████████████████████████▊| 102kB 28.5MB/s eta 0:00:01\r\u001b[K     |████████████████████████████████| 112kB 28.5MB/s \n",
            "\u001b[?25hRequirement already satisfied: tensorflow<3,>=2.1.0 in /usr/local/lib/python3.7/dist-packages (from tensorflowjs) (2.4.1)\n",
            "Requirement already satisfied: numpy>=1.12.0 in /usr/local/lib/python3.7/dist-packages (from tensorflow-hub<0.10,>=0.7.0->tensorflowjs) (1.19.5)\n",
            "Requirement already satisfied: protobuf>=3.8.0 in /usr/local/lib/python3.7/dist-packages (from tensorflow-hub<0.10,>=0.7.0->tensorflowjs) (3.12.4)\n",
            "Requirement already satisfied: gast==0.3.3 in /usr/local/lib/python3.7/dist-packages (from tensorflow<3,>=2.1.0->tensorflowjs) (0.3.3)\n",
            "Requirement already satisfied: tensorflow-estimator<2.5.0,>=2.4.0 in /usr/local/lib/python3.7/dist-packages (from tensorflow<3,>=2.1.0->tensorflowjs) (2.4.0)\n",
            "Requirement already satisfied: termcolor~=1.1.0 in /usr/local/lib/python3.7/dist-packages (from tensorflow<3,>=2.1.0->tensorflowjs) (1.1.0)\n",
            "Requirement already satisfied: grpcio~=1.32.0 in /usr/local/lib/python3.7/dist-packages (from tensorflow<3,>=2.1.0->tensorflowjs) (1.32.0)\n",
            "Requirement already satisfied: typing-extensions~=3.7.4 in /usr/local/lib/python3.7/dist-packages (from tensorflow<3,>=2.1.0->tensorflowjs) (3.7.4.3)\n",
            "Requirement already satisfied: astunparse~=1.6.3 in /usr/local/lib/python3.7/dist-packages (from tensorflow<3,>=2.1.0->tensorflowjs) (1.6.3)\n",
            "Requirement already satisfied: google-pasta~=0.2 in /usr/local/lib/python3.7/dist-packages (from tensorflow<3,>=2.1.0->tensorflowjs) (0.2.0)\n",
            "Requirement already satisfied: tensorboard~=2.4 in /usr/local/lib/python3.7/dist-packages (from tensorflow<3,>=2.1.0->tensorflowjs) (2.4.1)\n",
            "Requirement already satisfied: opt-einsum~=3.3.0 in /usr/local/lib/python3.7/dist-packages (from tensorflow<3,>=2.1.0->tensorflowjs) (3.3.0)\n",
            "Requirement already satisfied: wrapt~=1.12.1 in /usr/local/lib/python3.7/dist-packages (from tensorflow<3,>=2.1.0->tensorflowjs) (1.12.1)\n",
            "Requirement already satisfied: absl-py~=0.10 in /usr/local/lib/python3.7/dist-packages (from tensorflow<3,>=2.1.0->tensorflowjs) (0.12.0)\n",
            "Requirement already satisfied: keras-preprocessing~=1.1.2 in /usr/local/lib/python3.7/dist-packages (from tensorflow<3,>=2.1.0->tensorflowjs) (1.1.2)\n",
            "Requirement already satisfied: h5py~=2.10.0 in /usr/local/lib/python3.7/dist-packages (from tensorflow<3,>=2.1.0->tensorflowjs) (2.10.0)\n",
            "Requirement already satisfied: flatbuffers~=1.12.0 in /usr/local/lib/python3.7/dist-packages (from tensorflow<3,>=2.1.0->tensorflowjs) (1.12)\n",
            "Requirement already satisfied: wheel~=0.35 in /usr/local/lib/python3.7/dist-packages (from tensorflow<3,>=2.1.0->tensorflowjs) (0.36.2)\n",
            "Requirement already satisfied: setuptools in /usr/local/lib/python3.7/dist-packages (from protobuf>=3.8.0->tensorflow-hub<0.10,>=0.7.0->tensorflowjs) (56.0.0)\n",
            "Requirement already satisfied: tensorboard-plugin-wit>=1.6.0 in /usr/local/lib/python3.7/dist-packages (from tensorboard~=2.4->tensorflow<3,>=2.1.0->tensorflowjs) (1.8.0)\n",
            "Requirement already satisfied: requests<3,>=2.21.0 in /usr/local/lib/python3.7/dist-packages (from tensorboard~=2.4->tensorflow<3,>=2.1.0->tensorflowjs) (2.23.0)\n",
            "Requirement already satisfied: werkzeug>=0.11.15 in /usr/local/lib/python3.7/dist-packages (from tensorboard~=2.4->tensorflow<3,>=2.1.0->tensorflowjs) (1.0.1)\n",
            "Requirement already satisfied: google-auth<2,>=1.6.3 in /usr/local/lib/python3.7/dist-packages (from tensorboard~=2.4->tensorflow<3,>=2.1.0->tensorflowjs) (1.28.1)\n",
            "Requirement already satisfied: markdown>=2.6.8 in /usr/local/lib/python3.7/dist-packages (from tensorboard~=2.4->tensorflow<3,>=2.1.0->tensorflowjs) (3.3.4)\n",
            "Requirement already satisfied: google-auth-oauthlib<0.5,>=0.4.1 in /usr/local/lib/python3.7/dist-packages (from tensorboard~=2.4->tensorflow<3,>=2.1.0->tensorflowjs) (0.4.4)\n",
            "Requirement already satisfied: certifi>=2017.4.17 in /usr/local/lib/python3.7/dist-packages (from requests<3,>=2.21.0->tensorboard~=2.4->tensorflow<3,>=2.1.0->tensorflowjs) (2020.12.5)\n",
            "Requirement already satisfied: urllib3!=1.25.0,!=1.25.1,<1.26,>=1.21.1 in /usr/local/lib/python3.7/dist-packages (from requests<3,>=2.21.0->tensorboard~=2.4->tensorflow<3,>=2.1.0->tensorflowjs) (1.24.3)\n",
            "Requirement already satisfied: idna<3,>=2.5 in /usr/local/lib/python3.7/dist-packages (from requests<3,>=2.21.0->tensorboard~=2.4->tensorflow<3,>=2.1.0->tensorflowjs) (2.10)\n",
            "Requirement already satisfied: chardet<4,>=3.0.2 in /usr/local/lib/python3.7/dist-packages (from requests<3,>=2.21.0->tensorboard~=2.4->tensorflow<3,>=2.1.0->tensorflowjs) (3.0.4)\n",
            "Requirement already satisfied: cachetools<5.0,>=2.0.0 in /usr/local/lib/python3.7/dist-packages (from google-auth<2,>=1.6.3->tensorboard~=2.4->tensorflow<3,>=2.1.0->tensorflowjs) (4.2.1)\n",
            "Requirement already satisfied: rsa<5,>=3.1.4; python_version >= \"3.6\" in /usr/local/lib/python3.7/dist-packages (from google-auth<2,>=1.6.3->tensorboard~=2.4->tensorflow<3,>=2.1.0->tensorflowjs) (4.7.2)\n",
            "Requirement already satisfied: pyasn1-modules>=0.2.1 in /usr/local/lib/python3.7/dist-packages (from google-auth<2,>=1.6.3->tensorboard~=2.4->tensorflow<3,>=2.1.0->tensorflowjs) (0.2.8)\n",
            "Requirement already satisfied: importlib-metadata; python_version < \"3.8\" in /usr/local/lib/python3.7/dist-packages (from markdown>=2.6.8->tensorboard~=2.4->tensorflow<3,>=2.1.0->tensorflowjs) (3.10.1)\n",
            "Requirement already satisfied: requests-oauthlib>=0.7.0 in /usr/local/lib/python3.7/dist-packages (from google-auth-oauthlib<0.5,>=0.4.1->tensorboard~=2.4->tensorflow<3,>=2.1.0->tensorflowjs) (1.3.0)\n",
            "Requirement already satisfied: pyasn1>=0.1.3 in /usr/local/lib/python3.7/dist-packages (from rsa<5,>=3.1.4; python_version >= \"3.6\"->google-auth<2,>=1.6.3->tensorboard~=2.4->tensorflow<3,>=2.1.0->tensorflowjs) (0.4.8)\n",
            "Requirement already satisfied: zipp>=0.5 in /usr/local/lib/python3.7/dist-packages (from importlib-metadata; python_version < \"3.8\"->markdown>=2.6.8->tensorboard~=2.4->tensorflow<3,>=2.1.0->tensorflowjs) (3.4.1)\n",
            "Requirement already satisfied: oauthlib>=3.0.0 in /usr/local/lib/python3.7/dist-packages (from requests-oauthlib>=0.7.0->google-auth-oauthlib<0.5,>=0.4.1->tensorboard~=2.4->tensorflow<3,>=2.1.0->tensorflowjs) (3.1.0)\n",
            "Installing collected packages: tensorflow-hub, tensorflowjs\n",
            "  Found existing installation: tensorflow-hub 0.12.0\n",
            "    Uninstalling tensorflow-hub-0.12.0:\n",
            "      Successfully uninstalled tensorflow-hub-0.12.0\n",
            "Successfully installed tensorflow-hub-0.9.0 tensorflowjs-3.6.0\n"
          ],
          "name": "stdout"
        }
      ]
    },
    {
      "cell_type": "code",
      "metadata": {
        "id": "52czglSSH1uP"
      },
      "source": [
        "from sklearn.model_selection import train_test_split as tts\n",
        "from keras.models import Sequential\n",
        "from keras.layers import Dense, Dropout, Conv2D, MaxPooling2D, Flatten\n",
        "from keras.utils import np_utils\n",
        "from random import randint\n",
        "import numpy as np\n",
        "import os\n",
        "from PIL import Image\n",
        "import cv2\n",
        "from google.colab.patches import cv2_imshow\n",
        "import tensorflowjs as tfjs\n"
      ],
      "execution_count": null,
      "outputs": []
    },
    {
      "cell_type": "code",
      "metadata": {
        "colab": {
          "base_uri": "https://localhost:8080/"
        },
        "id": "sq5_h8jRH_uQ",
        "outputId": "033c238e-cc1a-4981-eddb-ebf83c65771a"
      },
      "source": [
        "N_CLASSES = 16\n",
        "TRANSPORT = {0: \"Aircraft carrier\", 1: \"Airplane\", 2: \"Ambulance\", 3: \"Bulldozer\",4: \"Bus\", 5: \"Canoe\", 6: \"Car\", 7: \"Cruise ship\",8: \"Firetruck\", 9: \"Flying saucer\", 10: \"Helicopter\", 11: \"Hot air balloon\",12: \"Pickup truck\", 13: \"Sailboat\", 14: \"Speedboat\", 15: \"Train\"}\n",
        "print(len(TRANSPORT))\n",
        "# number of samples to take in each class\n",
        "N = 10000\n",
        "\n",
        "# some other constants\n",
        "N_EPOCHS = 40\n",
        "\n",
        "# data files in the same order as defined in FRUITS\n",
        "files = [\"aircraft carrier.npy\",\"airplane.npy\",\"ambulance.npy\",\"bulldozer.npy\",\"bus.npy\",\"canoe.npy\",\"car.npy\",\"cruise ship.npy\",\"firetruck.npy\",\"flying saucer.npy\",\"helicopter.npy\"\t,\"hot air balloon.npy\",\"pickup truck.npy\",\"sailboat.npy\",\"speedboat.npy\",\"train.npy\"]\n",
        "print(len(files))\n"
      ],
      "execution_count": null,
      "outputs": [
        {
          "output_type": "stream",
          "text": [
            "16\n",
            "16\n"
          ],
          "name": "stdout"
        }
      ]
    },
    {
      "cell_type": "code",
      "metadata": {
        "id": "O3pyS8LAK3aQ"
      },
      "source": [
        "def load(dir, reshaped, files):\n",
        "    \"Load .npy or .npz files from disk and return them as numpy arrays. \\\n",
        "    Takes in a list of filenames and returns a list of numpy arrays.\"\n",
        "\n",
        "    data = []\n",
        "    for file in files:\n",
        "        f = np.load(dir + file)\n",
        "        if reshaped:\n",
        "            new_f = []\n",
        "            for i in range(len(f)):\n",
        "                x = np.reshape(f[i], (28,28))\n",
        "                #stacked_img = np.stack((x,)*3, axis=-1)#for 28x28x3\n",
        "                x = np.expand_dims(x, axis=0)#for 28x28x1\n",
        "                x = np.reshape(f[i], (28, 28, 3))#for 28x28x1\n",
        "                new_f.append(stacked_img)\n",
        "            f = new_f\n",
        "        data.append(f)\n",
        "    return data\n",
        "\n",
        "\n",
        "def normalize(data):\n",
        "    \"Takes a list or a list of lists and returns its normalized form\"\n",
        "\n",
        "    return np.interp(data, [0, 255], [-1, 1])\n",
        "\n",
        "\n",
        "def denormalize(data):\n",
        "    \"Takes a list or a list of lists and returns its denormalized form\"\n",
        "\n",
        "    return np.interp(data, [-1, 1], [0, 255])\n",
        "\n",
        "\n",
        "def visualize(array):\n",
        "    \"Visualize a 2D array as an Image\"\n",
        "    array = np.reshape(array, (28,28,3))\n",
        "    #cv2.resize(array,(100,100))\n",
        "    cv2_imshow(array)\n",
        "    #img = Image.fromarray(array)\n",
        "    #return img\n",
        "\n",
        "\n",
        "def set_limit(arrays, n):\n",
        "    \"Limit elements from each array up to n elements and return a single list\"\n",
        "    new = []\n",
        "    for array in arrays:\n",
        "        i = 0\n",
        "        for item in array:\n",
        "            if i == n:\n",
        "                break\n",
        "            new.append(item)\n",
        "            i += 1\n",
        "    return new\n",
        "\n",
        "\n",
        "def make_labels(N1, N2):\n",
        "    \"make labels from 0 to N1, each repeated N2 times\"\n",
        "    labels = []\n",
        "    for i in range(N1):\n",
        "        labels += [i] * N2\n",
        "    return labels"
      ],
      "execution_count": null,
      "outputs": []
    },
    {
      "cell_type": "code",
      "metadata": {
        "id": "GKSA3K-FMz06",
        "colab": {
          "base_uri": "https://localhost:8080/"
        },
        "outputId": "333b59af-20d1-4dc8-a4d5-587ebe15c947"
      },
      "source": [
        "airplanes = load(\"data/\", True, ['airplane.npy'])\n",
        "print(airplanes[0][0].shape)"
      ],
      "execution_count": null,
      "outputs": [
        {
          "output_type": "stream",
          "text": [
            "(28, 28, 3)\n"
          ],
          "name": "stdout"
        }
      ]
    },
    {
      "cell_type": "code",
      "metadata": {
        "colab": {
          "base_uri": "https://localhost:8080/",
          "height": 467
        },
        "id": "_xPnuuk0NEBD",
        "outputId": "40f86c71-8d27-4d37-a48f-6b8330787bc9"
      },
      "source": [
        "for i in range(0,10):\n",
        "  print(airplanes[0][i].shape)\n",
        "  visualize(airplanes[0][i])\n",
        "  "
      ],
      "execution_count": null,
      "outputs": [
        {
          "output_type": "stream",
          "text": [
            "(28, 28, 3)\n"
          ],
          "name": "stdout"
        },
        {
          "output_type": "display_data",
          "data": {
            "image/png": "[encoded data removed]",
            "text/plain": [
              "<PIL.Image.Image image mode=RGB size=28x28 at 0x7F69C19ADA50>"
            ]
          },
          "metadata": {
            "tags": []
          }
        },
        {
          "output_type": "stream",
          "text": [
            "(28, 28, 3)\n"
          ],
          "name": "stdout"
        },
        {
          "output_type": "display_data",
          "data": {
            "image/png": "[encoded data removed]",
            "text/plain": [
              "<PIL.Image.Image image mode=RGB size=28x28 at 0x7F69C199D350>"
            ]
          },
          "metadata": {
            "tags": []
          }
        },
        {
          "output_type": "stream",
          "text": [
            "(28, 28, 3)\n"
          ],
          "name": "stdout"
        },
        {
          "output_type": "display_data",
          "data": {
            "image/png": "[encoded data removed]",
            "text/plain": [
              "<PIL.Image.Image image mode=RGB size=28x28 at 0x7F69C199D710>"
            ]
          },
          "metadata": {
            "tags": []
          }
        },
        {
          "output_type": "stream",
          "text": [
            "(28, 28, 3)\n"
          ],
          "name": "stdout"
        },
        {
          "output_type": "display_data",
          "data": {
            "image/png": "[encoded data removed]",
            "text/plain": [
              "<PIL.Image.Image image mode=RGB size=28x28 at 0x7F69C19ADA50>"
            ]
          },
          "metadata": {
            "tags": []
          }
        },
        {
          "output_type": "stream",
          "text": [
            "(28, 28, 3)\n"
          ],
          "name": "stdout"
        },
        {
          "output_type": "display_data",
          "data": {
            "image/png": "[encoded data removed]",
            "text/plain": [
              "<PIL.Image.Image image mode=RGB size=28x28 at 0x7F69C196B310>"
            ]
          },
          "metadata": {
            "tags": []
          }
        },
        {
          "output_type": "stream",
          "text": [
            "(28, 28, 3)\n"
          ],
          "name": "stdout"
        },
        {
          "output_type": "display_data",
          "data": {
            "image/png": "[encoded data removed]",
            "text/plain": [
              "<PIL.Image.Image image mode=RGB size=28x28 at 0x7F69C196B910>"
            ]
          },
          "metadata": {
            "tags": []
          }
        },
        {
          "output_type": "stream",
          "text": [
            "(28, 28, 3)\n"
          ],
          "name": "stdout"
        },
        {
          "output_type": "display_data",
          "data": {
            "image/png": "[encoded data removed]",
            "text/plain": [
              "<PIL.Image.Image image mode=RGB size=28x28 at 0x7F69C196BAD0>"
            ]
          },
          "metadata": {
            "tags": []
          }
        },
        {
          "output_type": "stream",
          "text": [
            "(28, 28, 3)\n"
          ],
          "name": "stdout"
        },
        {
          "output_type": "display_data",
          "data": {
            "image/png": "[encoded data removed]",
            "text/plain": [
              "<PIL.Image.Image image mode=RGB size=28x28 at 0x7F69C196B590>"
            ]
          },
          "metadata": {
            "tags": []
          }
        },
        {
          "output_type": "stream",
          "text": [
            "(28, 28, 3)\n"
          ],
          "name": "stdout"
        },
        {
          "output_type": "display_data",
          "data": {
            "image/png": "[encoded data removed]",
            "text/plain": [
              "<PIL.Image.Image image mode=RGB size=28x28 at 0x7F69C196B590>"
            ]
          },
          "metadata": {
            "tags": []
          }
        },
        {
          "output_type": "stream",
          "text": [
            "(28, 28, 3)\n"
          ],
          "name": "stdout"
        },
        {
          "output_type": "display_data",
          "data": {
            "image/png": "[encoded data removed]",
            "text/plain": [
              "<PIL.Image.Image image mode=RGB size=28x28 at 0x7F69C196BE90>"
            ]
          },
          "metadata": {
            "tags": []
          }
        }
      ]
    },
    {
      "cell_type": "code",
      "metadata": {
        "colab": {
          "base_uri": "https://localhost:8080/"
        },
        "id": "yWBlW1sdPZe7",
        "outputId": "b5356439-6ab9-49e6-db0b-48785fdf1a3c"
      },
      "source": [
        "#second argument is True for reshaping the image to a 28x28 form. A conv net expects this format.\n",
        "fruits = load(\"data/\", True, files)\n",
        " \n",
        "#second argument is False because we don't need to reshape the image. An MLP net expects this format.\n",
        "#fruits = load(\"data/\", False, files)\n",
        "\n",
        "\n",
        "# limit no of samples in each class to N\n",
        "fruits = set_limit(fruits, N)\n",
        "\n",
        "# normalize the values\n",
        "fruits = map(normalize, fruits)\n",
        "fruits1 = list(fruits)\n",
        "print(len(fruits1))\n",
        "# define the labels\n",
        "labels = make_labels(N_CLASSES, N)\n",
        "print(len(labels))\n",
        "# prepare the data\n",
        "x_train, x_test, y_train, y_test = tts(fruits1, labels, test_size=0.2,stratify=labels)\n",
        "#x_train,x_validate,y_train,y_validate=tts(x_train,y_train,test_size=0.2,stratify=labels)\n",
        "\n",
        "# one hot encoding\n",
        "Y_train = np_utils.to_categorical(y_train, N_CLASSES)\n",
        "Y_test = np_utils.to_categorical(y_test, N_CLASSES)\n",
        "#Y_validate = np_utils.to_categorical(y_validate, N_CLASSES)\n",
        "print(len(x_train),len(Y_train))\n",
        "print(len(x_test),len(Y_test))\n",
        "#print(len(x_validate),len(Y_validate))"
      ],
      "execution_count": null,
      "outputs": [
        {
          "output_type": "stream",
          "text": [
            "160000\n",
            "160000\n",
            "128000 128000\n",
            "32000 32000\n"
          ],
          "name": "stdout"
        }
      ]
    },
    {
      "cell_type": "code",
      "metadata": {
        "id": "CcxsI-7yAav9"
      },
      "source": [
        "# model = Sequential()\n",
        "# model.add(Conv2D(32, kernel_size=(3, 3), activation='relu', input_shape=(28,28,1)))\n",
        "# model.add(Conv2D(64, (3, 3), activation='relu'))\n",
        "# model.add(MaxPooling2D(pool_size=(2, 2)))\n",
        "# model.add(Dropout(0.25))\n",
        "# model.add(Flatten())\n",
        "# model.add(Dense(128, activation='relu'))\n",
        "# model.add(Dropout(0.5))\n",
        "# model.add(Dense(N_CLASSES, activation='softmax'))\n",
        "noOfFilters=60\n",
        "sizeOfFilter=(5,5)\n",
        "sizeOfFilter2=(3,3)\n",
        "sizeOfPool=(2,2)\n",
        "noOfNode=500\n",
        "# model = Sequential()\n",
        "# model.add((Conv2D(noOfFilters,sizeOfFilter,input_shape=(28,28,3),activation='relu')))\n",
        "# model.add((Conv2D(noOfFilters, sizeOfFilter, activation='relu')))\n",
        "# model.add(MaxPooling2D(pool_size=sizeOfPool))\n",
        "# model.add((Conv2D(noOfFilters//2, sizeOfFilter2, activation='relu')))\n",
        "# model.add((Conv2D(noOfFilters//2, sizeOfFilter2, activation='relu')))\n",
        "# model.add(MaxPooling2D(pool_size=sizeOfPool))\n",
        "# model.add(Dropout(0.5))\n",
        "# model.add(Flatten())\n",
        "# model.add(Dense(noOfNode,activation='relu'))\n",
        "# model.add(Dropout(0.5))\n",
        "# model.add(Dense(N_CLASSES,activation='softmax'))\n",
        "model = Sequential()\n",
        "inps=(28,28,3)#for 3 channels\n",
        "inps=(28,28,1)# for 1 channels\n",
        "model.add(Conv2D(32, (5, 5), input_shape=inps, activation='relu'))\n",
        "model.add(Conv2D(32, (5, 5), activation='relu'))\n",
        "model.add(MaxPooling2D(pool_size=(2, 2), strides=(2, 2), padding='same'))\n",
        "model.add(Dropout(0.25))\n",
        "model.add(MaxPooling2D(pool_size=(2, 2), strides=(2, 2), padding='same'))\n",
        "model.add(Conv2D(64, (5, 5), activation='relu'))\n",
        "model.add(MaxPooling2D(pool_size=(2, 2), strides=(2, 2), padding='same'))\n",
        "\n",
        "model.add(Flatten())\n",
        "model.add(Dense(512, activation='relu'))\n",
        "model.add(Dropout(0.5))\n",
        "model.add(Dense(128, activation='relu'))\n",
        "model.add(Dropout(0.5))\n",
        "model.add(Dense(N_CLASSES, activation='softmax'))\n"
      ],
      "execution_count": null,
      "outputs": []
    },
    {
      "cell_type": "code",
      "metadata": {
        "colab": {
          "base_uri": "https://localhost:8080/"
        },
        "id": "zsufbSDLBau5",
        "outputId": "ff8ae77d-6335-4de5-9bd8-e8cb5046d47b"
      },
      "source": [
        "model.compile(loss='categorical_crossentropy',\n",
        "              optimizer='adam',\n",
        "              metrics=['accuracy'])\n",
        "\n",
        "\n",
        "# train\n",
        "model.fit(np.array(x_train), np.array(Y_train), batch_size=32, epochs=125)\n",
        "\n",
        "print(\"Training complete\")\n",
        "\n",
        "print(\"Evaluating model\")\n",
        "preds = model.predict(np.array(x_test))\n",
        "print(type(preds))\n",
        "score = 0\n",
        "for i in range(len(preds)):\n",
        "    if np.argmax(preds[i]) == y_test[i]:\n",
        "        score += 1\n",
        "\n",
        "print(\"Accuracy: \", ((score + 0.0) / len(preds)) * 100)\n",
        "\n",
        "\n",
        "model.save(\"mobiles1\"+ \".h5\")\n",
        "print(\"Keras:Model saved\")\n",
        "\n",
        "tfjs.converters.save_keras_model(model, '/content/tfjsmodel')\n",
        "\n",
        "print(\"Tensorflow.js: Model saved\")\n",
        "\n"
      ],
      "execution_count": null,
      "outputs": [
        {
          "output_type": "stream",
          "text": [
            "Epoch 1/125\n",
            "4000/4000 [==============================] - 47s 4ms/step - loss: 1.5049 - accuracy: 0.5189\n",
            "Epoch 2/125\n",
            "4000/4000 [==============================] - 14s 3ms/step - loss: 0.9601 - accuracy: 0.7059\n",
            "Epoch 3/125\n",
            "4000/4000 [==============================] - 14s 3ms/step - loss: 0.9024 - accuracy: 0.7232\n",
            "Epoch 4/125\n",
            "4000/4000 [==============================] - 14s 3ms/step - loss: 0.8704 - accuracy: 0.7334\n",
            "Epoch 5/125\n",
            "4000/4000 [==============================] - 14s 3ms/step - loss: 0.8514 - accuracy: 0.7384\n",
            "Epoch 6/125\n",
            "4000/4000 [==============================] - 14s 3ms/step - loss: 0.8377 - accuracy: 0.7417\n",
            "Epoch 7/125\n",
            "4000/4000 [==============================] - 14s 3ms/step - loss: 0.8227 - accuracy: 0.7476\n",
            "Epoch 8/125\n",
            "4000/4000 [==============================] - 14s 3ms/step - loss: 0.8151 - accuracy: 0.7485\n",
            "Epoch 9/125\n",
            "4000/4000 [==============================] - 14s 4ms/step - loss: 0.7951 - accuracy: 0.7555\n",
            "Epoch 10/125\n",
            "4000/4000 [==============================] - 14s 3ms/step - loss: 0.7992 - accuracy: 0.7545\n",
            "Epoch 11/125\n",
            "4000/4000 [==============================] - 14s 4ms/step - loss: 0.7815 - accuracy: 0.7603\n",
            "Epoch 12/125\n",
            "4000/4000 [==============================] - 14s 3ms/step - loss: 0.7859 - accuracy: 0.7580\n",
            "Epoch 13/125\n",
            "4000/4000 [==============================] - 14s 3ms/step - loss: 0.7791 - accuracy: 0.7607\n",
            "Epoch 14/125\n",
            "4000/4000 [==============================] - 14s 4ms/step - loss: 0.7738 - accuracy: 0.7628\n",
            "Epoch 15/125\n",
            "4000/4000 [==============================] - 14s 3ms/step - loss: 0.7690 - accuracy: 0.7633\n",
            "Epoch 16/125\n",
            "4000/4000 [==============================] - 14s 3ms/step - loss: 0.7615 - accuracy: 0.7662\n",
            "Epoch 17/125\n",
            "4000/4000 [==============================] - 14s 3ms/step - loss: 0.7652 - accuracy: 0.7662\n",
            "Epoch 18/125\n",
            "4000/4000 [==============================] - 14s 3ms/step - loss: 0.7520 - accuracy: 0.7683\n",
            "Epoch 19/125\n",
            "4000/4000 [==============================] - 14s 3ms/step - loss: 0.7558 - accuracy: 0.7701\n",
            "Epoch 20/125\n",
            "4000/4000 [==============================] - 14s 3ms/step - loss: 0.7557 - accuracy: 0.7679\n",
            "Epoch 21/125\n",
            "4000/4000 [==============================] - 14s 3ms/step - loss: 0.7518 - accuracy: 0.7722\n",
            "Epoch 22/125\n",
            "4000/4000 [==============================] - 14s 3ms/step - loss: 0.7488 - accuracy: 0.7703\n",
            "Epoch 23/125\n",
            "4000/4000 [==============================] - 14s 3ms/step - loss: 0.7364 - accuracy: 0.7729\n",
            "Epoch 24/125\n",
            "4000/4000 [==============================] - 14s 3ms/step - loss: 0.7372 - accuracy: 0.7739\n",
            "Epoch 25/125\n",
            "4000/4000 [==============================] - 14s 3ms/step - loss: 0.7368 - accuracy: 0.7749\n",
            "Epoch 26/125\n",
            "4000/4000 [==============================] - 14s 3ms/step - loss: 0.7380 - accuracy: 0.7747\n",
            "Epoch 27/125\n",
            "4000/4000 [==============================] - 14s 3ms/step - loss: 0.7322 - accuracy: 0.7758\n",
            "Epoch 28/125\n",
            "4000/4000 [==============================] - 14s 3ms/step - loss: 0.7365 - accuracy: 0.7754\n",
            "Epoch 29/125\n",
            "4000/4000 [==============================] - 13s 3ms/step - loss: 0.7249 - accuracy: 0.7786\n",
            "Epoch 30/125\n",
            "4000/4000 [==============================] - 14s 3ms/step - loss: 0.7271 - accuracy: 0.7791\n",
            "Epoch 31/125\n",
            "4000/4000 [==============================] - 13s 3ms/step - loss: 0.7286 - accuracy: 0.7775\n",
            "Epoch 32/125\n",
            "4000/4000 [==============================] - 14s 3ms/step - loss: 0.7246 - accuracy: 0.7771\n",
            "Epoch 33/125\n",
            "4000/4000 [==============================] - 14s 3ms/step - loss: 0.7173 - accuracy: 0.7797\n",
            "Epoch 34/125\n",
            "4000/4000 [==============================] - 14s 3ms/step - loss: 0.7168 - accuracy: 0.7811\n",
            "Epoch 35/125\n",
            "4000/4000 [==============================] - 13s 3ms/step - loss: 0.7194 - accuracy: 0.7820\n",
            "Epoch 36/125\n",
            "4000/4000 [==============================] - 14s 3ms/step - loss: 0.7116 - accuracy: 0.7807\n",
            "Epoch 37/125\n",
            "4000/4000 [==============================] - 14s 4ms/step - loss: 0.7167 - accuracy: 0.7825\n",
            "Epoch 38/125\n",
            "4000/4000 [==============================] - 14s 3ms/step - loss: 0.7153 - accuracy: 0.7820\n",
            "Epoch 39/125\n",
            "4000/4000 [==============================] - 13s 3ms/step - loss: 0.7122 - accuracy: 0.7841\n",
            "Epoch 40/125\n",
            "4000/4000 [==============================] - 14s 3ms/step - loss: 0.7142 - accuracy: 0.7826\n",
            "Epoch 41/125\n",
            "4000/4000 [==============================] - 14s 3ms/step - loss: 0.7066 - accuracy: 0.7839\n",
            "Epoch 42/125\n",
            "4000/4000 [==============================] - 13s 3ms/step - loss: 0.7097 - accuracy: 0.7839\n",
            "Epoch 43/125\n",
            "4000/4000 [==============================] - 13s 3ms/step - loss: 0.7079 - accuracy: 0.7860\n",
            "Epoch 44/125\n",
            "4000/4000 [==============================] - 13s 3ms/step - loss: 0.7025 - accuracy: 0.7869\n",
            "Epoch 45/125\n",
            "4000/4000 [==============================] - 13s 3ms/step - loss: 0.7019 - accuracy: 0.7869\n",
            "Epoch 46/125\n",
            "4000/4000 [==============================] - 13s 3ms/step - loss: 0.7010 - accuracy: 0.7861\n",
            "Epoch 47/125\n",
            "4000/4000 [==============================] - 13s 3ms/step - loss: 0.7005 - accuracy: 0.7878\n",
            "Epoch 48/125\n",
            "4000/4000 [==============================] - 13s 3ms/step - loss: 0.6959 - accuracy: 0.7888\n",
            "Epoch 49/125\n",
            "4000/4000 [==============================] - 13s 3ms/step - loss: 0.7091 - accuracy: 0.7855\n",
            "Epoch 50/125\n",
            "4000/4000 [==============================] - 13s 3ms/step - loss: 0.7048 - accuracy: 0.7858\n",
            "Epoch 51/125\n",
            "4000/4000 [==============================] - 13s 3ms/step - loss: 0.7034 - accuracy: 0.7866\n",
            "Epoch 52/125\n",
            "4000/4000 [==============================] - 13s 3ms/step - loss: 0.7066 - accuracy: 0.7858\n",
            "Epoch 53/125\n",
            "4000/4000 [==============================] - 13s 3ms/step - loss: 0.6974 - accuracy: 0.7872\n",
            "Epoch 54/125\n",
            "4000/4000 [==============================] - 13s 3ms/step - loss: 0.7074 - accuracy: 0.7829\n",
            "Epoch 55/125\n",
            "4000/4000 [==============================] - 13s 3ms/step - loss: 0.7023 - accuracy: 0.7865\n",
            "Epoch 56/125\n",
            "4000/4000 [==============================] - 13s 3ms/step - loss: 0.6973 - accuracy: 0.7886\n",
            "Epoch 57/125\n",
            "4000/4000 [==============================] - 13s 3ms/step - loss: 0.6965 - accuracy: 0.7920\n",
            "Epoch 58/125\n",
            "4000/4000 [==============================] - 13s 3ms/step - loss: 0.7053 - accuracy: 0.7868\n",
            "Epoch 59/125\n",
            "4000/4000 [==============================] - 13s 3ms/step - loss: 0.6931 - accuracy: 0.7900\n",
            "Epoch 60/125\n",
            "4000/4000 [==============================] - 13s 3ms/step - loss: 0.6987 - accuracy: 0.7883\n",
            "Epoch 61/125\n",
            "4000/4000 [==============================] - 13s 3ms/step - loss: 0.7003 - accuracy: 0.7907\n",
            "Epoch 62/125\n",
            "4000/4000 [==============================] - 13s 3ms/step - loss: 0.6916 - accuracy: 0.7901\n",
            "Epoch 63/125\n",
            "4000/4000 [==============================] - 13s 3ms/step - loss: 0.6937 - accuracy: 0.7924\n",
            "Epoch 64/125\n",
            "4000/4000 [==============================] - 13s 3ms/step - loss: 0.6982 - accuracy: 0.7897\n",
            "Epoch 65/125\n",
            "4000/4000 [==============================] - 13s 3ms/step - loss: 0.7020 - accuracy: 0.7886\n",
            "Epoch 66/125\n",
            "4000/4000 [==============================] - 13s 3ms/step - loss: 0.7028 - accuracy: 0.7888\n",
            "Epoch 67/125\n",
            "4000/4000 [==============================] - 13s 3ms/step - loss: 0.6956 - accuracy: 0.7915\n",
            "Epoch 68/125\n",
            "4000/4000 [==============================] - 13s 3ms/step - loss: 0.6995 - accuracy: 0.7895\n",
            "Epoch 69/125\n",
            "4000/4000 [==============================] - 13s 3ms/step - loss: 0.6878 - accuracy: 0.7914\n",
            "Epoch 70/125\n",
            "4000/4000 [==============================] - 13s 3ms/step - loss: 0.6947 - accuracy: 0.7917\n",
            "Epoch 71/125\n",
            "4000/4000 [==============================] - 13s 3ms/step - loss: 0.6986 - accuracy: 0.7892\n",
            "Epoch 72/125\n",
            "4000/4000 [==============================] - 13s 3ms/step - loss: 0.6989 - accuracy: 0.7901\n",
            "Epoch 73/125\n",
            "4000/4000 [==============================] - 13s 3ms/step - loss: 0.7034 - accuracy: 0.7901\n",
            "Epoch 74/125\n",
            "4000/4000 [==============================] - 13s 3ms/step - loss: 0.6948 - accuracy: 0.7910\n",
            "Epoch 75/125\n",
            "4000/4000 [==============================] - 13s 3ms/step - loss: 0.6967 - accuracy: 0.7922\n",
            "Epoch 76/125\n",
            "4000/4000 [==============================] - 13s 3ms/step - loss: 0.6935 - accuracy: 0.7914\n",
            "Epoch 77/125\n",
            "4000/4000 [==============================] - 13s 3ms/step - loss: 0.6964 - accuracy: 0.7916\n",
            "Epoch 78/125\n",
            "4000/4000 [==============================] - 13s 3ms/step - loss: 0.6902 - accuracy: 0.7927\n",
            "Epoch 79/125\n",
            "4000/4000 [==============================] - 13s 3ms/step - loss: 0.6947 - accuracy: 0.7933\n",
            "Epoch 80/125\n",
            "4000/4000 [==============================] - 13s 3ms/step - loss: 0.7007 - accuracy: 0.7896\n",
            "Epoch 81/125\n",
            "4000/4000 [==============================] - 13s 3ms/step - loss: 0.6979 - accuracy: 0.7914\n",
            "Epoch 82/125\n",
            "4000/4000 [==============================] - 13s 3ms/step - loss: 0.6972 - accuracy: 0.7925\n",
            "Epoch 83/125\n",
            "4000/4000 [==============================] - 13s 3ms/step - loss: 0.6892 - accuracy: 0.7931\n",
            "Epoch 84/125\n",
            "4000/4000 [==============================] - 13s 3ms/step - loss: 0.6992 - accuracy: 0.7917\n",
            "Epoch 85/125\n",
            "4000/4000 [==============================] - 13s 3ms/step - loss: 0.6916 - accuracy: 0.7951\n",
            "Epoch 86/125\n",
            "4000/4000 [==============================] - 13s 3ms/step - loss: 0.6939 - accuracy: 0.7933\n",
            "Epoch 87/125\n",
            "4000/4000 [==============================] - 13s 3ms/step - loss: 0.6923 - accuracy: 0.7924\n",
            "Epoch 88/125\n",
            "4000/4000 [==============================] - 13s 3ms/step - loss: 0.7020 - accuracy: 0.7907\n",
            "Epoch 89/125\n",
            "4000/4000 [==============================] - 13s 3ms/step - loss: 0.6987 - accuracy: 0.7905\n",
            "Epoch 90/125\n",
            "4000/4000 [==============================] - 13s 3ms/step - loss: 0.6953 - accuracy: 0.7927\n",
            "Epoch 91/125\n",
            "4000/4000 [==============================] - 13s 3ms/step - loss: 0.6969 - accuracy: 0.7927\n",
            "Epoch 92/125\n",
            "4000/4000 [==============================] - 13s 3ms/step - loss: 0.6983 - accuracy: 0.7932\n",
            "Epoch 93/125\n",
            "4000/4000 [==============================] - 13s 3ms/step - loss: 0.6972 - accuracy: 0.7927\n",
            "Epoch 94/125\n",
            "4000/4000 [==============================] - 13s 3ms/step - loss: 0.6992 - accuracy: 0.7914\n",
            "Epoch 95/125\n",
            "4000/4000 [==============================] - 13s 3ms/step - loss: 0.7001 - accuracy: 0.7925\n",
            "Epoch 96/125\n",
            "4000/4000 [==============================] - 13s 3ms/step - loss: 0.6901 - accuracy: 0.7946\n",
            "Epoch 97/125\n",
            "4000/4000 [==============================] - 13s 3ms/step - loss: 0.7024 - accuracy: 0.7930\n",
            "Epoch 98/125\n",
            "4000/4000 [==============================] - 13s 3ms/step - loss: 0.6950 - accuracy: 0.7932\n",
            "Epoch 99/125\n",
            "4000/4000 [==============================] - 13s 3ms/step - loss: 0.6991 - accuracy: 0.7934\n",
            "Epoch 100/125\n",
            "4000/4000 [==============================] - 13s 3ms/step - loss: 0.7094 - accuracy: 0.7906\n",
            "Epoch 101/125\n",
            "4000/4000 [==============================] - 13s 3ms/step - loss: 0.6899 - accuracy: 0.7959\n",
            "Epoch 102/125\n",
            "4000/4000 [==============================] - 13s 3ms/step - loss: 0.7039 - accuracy: 0.7916\n",
            "Epoch 103/125\n",
            "4000/4000 [==============================] - 13s 3ms/step - loss: 0.6941 - accuracy: 0.7942\n",
            "Epoch 104/125\n",
            "4000/4000 [==============================] - 13s 3ms/step - loss: 0.6910 - accuracy: 0.7953\n",
            "Epoch 105/125\n",
            "4000/4000 [==============================] - 13s 3ms/step - loss: 0.6939 - accuracy: 0.7930\n",
            "Epoch 106/125\n",
            "4000/4000 [==============================] - 13s 3ms/step - loss: 0.6801 - accuracy: 0.7985\n",
            "Epoch 107/125\n",
            "4000/4000 [==============================] - 14s 3ms/step - loss: 0.6919 - accuracy: 0.7953\n",
            "Epoch 108/125\n",
            "4000/4000 [==============================] - 13s 3ms/step - loss: 0.7051 - accuracy: 0.7922\n",
            "Epoch 109/125\n",
            "4000/4000 [==============================] - 13s 3ms/step - loss: 0.6967 - accuracy: 0.7947\n",
            "Epoch 110/125\n",
            "4000/4000 [==============================] - 13s 3ms/step - loss: 0.6984 - accuracy: 0.7932\n",
            "Epoch 111/125\n",
            "4000/4000 [==============================] - 13s 3ms/step - loss: 0.7150 - accuracy: 0.7896\n",
            "Epoch 112/125\n",
            "4000/4000 [==============================] - 13s 3ms/step - loss: 0.6959 - accuracy: 0.7953\n",
            "Epoch 113/125\n",
            "4000/4000 [==============================] - 13s 3ms/step - loss: 0.6928 - accuracy: 0.7934\n",
            "Epoch 114/125\n",
            "4000/4000 [==============================] - 13s 3ms/step - loss: 0.6976 - accuracy: 0.7931\n",
            "Epoch 115/125\n",
            "4000/4000 [==============================] - 13s 3ms/step - loss: 0.7013 - accuracy: 0.7933\n",
            "Epoch 116/125\n",
            "4000/4000 [==============================] - 13s 3ms/step - loss: 0.7039 - accuracy: 0.7911\n",
            "Epoch 117/125\n",
            "4000/4000 [==============================] - 13s 3ms/step - loss: 0.7002 - accuracy: 0.7933\n",
            "Epoch 118/125\n",
            "4000/4000 [==============================] - 13s 3ms/step - loss: 0.7035 - accuracy: 0.7908\n",
            "Epoch 119/125\n",
            "4000/4000 [==============================] - 13s 3ms/step - loss: 0.7677 - accuracy: 0.7826\n",
            "Epoch 120/125\n",
            "4000/4000 [==============================] - 13s 3ms/step - loss: 0.6963 - accuracy: 0.7932\n",
            "Epoch 121/125\n",
            "4000/4000 [==============================] - 13s 3ms/step - loss: 0.7056 - accuracy: 0.7916\n",
            "Epoch 122/125\n",
            "4000/4000 [==============================] - 13s 3ms/step - loss: 0.7079 - accuracy: 0.7929\n",
            "Epoch 123/125\n",
            "4000/4000 [==============================] - 13s 3ms/step - loss: 0.6954 - accuracy: 0.7960\n",
            "Epoch 124/125\n",
            "4000/4000 [==============================] - 14s 3ms/step - loss: 0.6973 - accuracy: 0.7932\n",
            "Epoch 125/125\n",
            "4000/4000 [==============================] - 13s 3ms/step - loss: 0.6925 - accuracy: 0.7983\n",
            "Training complete\n",
            "Evaluating model\n",
            "<class 'numpy.ndarray'>\n",
            "Accuracy:  77.17500000000001\n",
            "Keras:Model saved\n",
            "Tensorflow.js: Model saved\n"
          ],
          "name": "stdout"
        }
      ]
    },
    {
      "cell_type": "code",
      "metadata": {
        "colab": {
          "base_uri": "https://localhost:8080/"
        },
        "id": "Ke3bl1RHydU9",
        "outputId": "3deee462-002d-40d0-b8a3-d1d5ccd7e5b0"
      },
      "source": [
        "def bruh(n):\n",
        "  return np.argmax(n,axis=-1)\n",
        "print(preds.shape)\n",
        "preds2 = map(bruh,preds)\n",
        "preds2=list(preds2)\n",
        "print(preds2[0:5])\n",
        "print(len(preds2))\n",
        "print(y_test[0:5])\n",
        "print(len(y_test))\n",
        "from sklearn.metrics import classification_report\n",
        "target_names = [\"aircraft carrier\",\"airplane\",\"ambulance\",\"bulldozer\",\"bus\",\"canoe\",\"car\",\"cruise ship\",\"firetruck\",\"flying saucer\",\"helicopter\",\"hot air balloon\",\"pickup truck\",\"sailboat\",\"speedboat\",\"train\"]\n",
        "print(classification_report(y_test,preds2,target_names))"
      ],
      "execution_count": null,
      "outputs": [
        {
          "output_type": "stream",
          "text": [
            "(32000, 16)\n",
            "[14, 11, 3, 4, 3]\n",
            "32000\n",
            "[7, 11, 3, 4, 3]\n",
            "32000\n",
            "                  precision    recall  f1-score   support\n",
            "\n",
            "aircraft carrier       0.00      0.00      0.00         0\n",
            "        airplane       0.00      0.00      0.00         0\n",
            "       ambulance       0.00      0.00      0.00         0\n",
            "       bulldozer       0.00      0.00      0.00         0\n",
            "             bus       0.00      0.00      0.00         0\n",
            "           canoe       0.00      0.00      0.00         0\n",
            "             car       0.00      0.00      0.00         0\n",
            "     cruise ship       0.00      0.00      0.00         0\n",
            "       firetruck       0.00      0.00      0.00         0\n",
            "   flying saucer       0.00      0.00      0.00         0\n",
            "      helicopter       0.00      0.00      0.00         0\n",
            " hot air balloon       0.00      0.00      0.00         0\n",
            "    pickup truck       0.00      0.00      0.00         0\n",
            "        sailboat       0.00      0.00      0.00         0\n",
            "       speedboat       0.00      0.00      0.00         0\n",
            "           train       0.00      0.00      0.00         0\n",
            "\n",
            "       micro avg       0.00      0.00      0.00         0\n",
            "       macro avg       0.00      0.00      0.00         0\n",
            "    weighted avg       0.00      0.00      0.00         0\n",
            "\n"
          ],
          "name": "stdout"
        },
        {
          "output_type": "stream",
          "text": [
            "/usr/local/lib/python3.7/dist-packages/sklearn/metrics/_classification.py:1272: UndefinedMetricWarning: Precision and F-score are ill-defined and being set to 0.0 in labels with no predicted samples. Use `zero_division` parameter to control this behavior.\n",
            "  _warn_prf(average, modifier, msg_start, len(result))\n",
            "/usr/local/lib/python3.7/dist-packages/sklearn/metrics/_classification.py:1272: UndefinedMetricWarning: Recall and F-score are ill-defined and being set to 0.0 in labels with no true samples. Use `zero_division` parameter to control this behavior.\n",
            "  _warn_prf(average, modifier, msg_start, len(result))\n",
            "/usr/local/lib/python3.7/dist-packages/sklearn/metrics/_classification.py:1272: UndefinedMetricWarning: Precision and F-score are ill-defined and being set to 0.0 due to no predicted samples. Use `zero_division` parameter to control this behavior.\n",
            "  _warn_prf(average, modifier, msg_start, len(result))\n",
            "/usr/local/lib/python3.7/dist-packages/sklearn/metrics/_classification.py:1272: UndefinedMetricWarning: Recall and F-score are ill-defined and being set to 0.0 due to no true samples. Use `zero_division` parameter to control this behavior.\n",
            "  _warn_prf(average, modifier, msg_start, len(result))\n"
          ],
          "name": "stderr"
        }
      ]
    },
    {
      "cell_type": "code",
      "metadata": {
        "colab": {
          "base_uri": "https://localhost:8080/"
        },
        "id": "rN4EVa6rFqFm",
        "outputId": "2efe51f2-3a68-4373-e902-9499071efa84"
      },
      "source": [
        "from sklearn.metrics import f1_score\n",
        "f1_score(y_test, preds2, average='weighted', labels=np.unique(preds2))"
      ],
      "execution_count": null,
      "outputs": [
        {
          "output_type": "execute_result",
          "data": {
            "text/plain": [
              "0.7708171669618799"
            ]
          },
          "metadata": {
            "tags": []
          },
          "execution_count": 39
        }
      ]
    },
    {
      "cell_type": "code",
      "metadata": {
        "id": "NtK5oXtyX6dz"
      },
      "source": [
        "x= x_test[2]\n",
        "y=np.expand_dims(x,axis=0)\n",
        "z=np.argmax(model.predict(y), axis=-1)\n",
        "label=TRANSPORT[z[0]]"
      ],
      "execution_count": null,
      "outputs": []
    },
    {
      "cell_type": "code",
      "metadata": {
        "colab": {
          "base_uri": "https://localhost:8080/",
          "height": 367
        },
        "id": "pI8fnQ0vg_iE",
        "outputId": "4231d46b-4ca0-4dc0-e126-91e4a15cd8c4"
      },
      "source": [
        "print(y_test[1])\n",
        "print(type(x))\n",
        "print(x.shape)\n",
        "from matplotlib import pyplot as plt\n",
        "x = np.reshape(x, (28,28,3)) # for 3 channels\n",
        "x = np.reshape(x, (28,28)) #for 1 channel\n",
        "print(x.shape)\n",
        "grayscale_array = np.asarray(x)\n",
        "plt.imshow(grayscale_array, cmap=\"gray\")\n",
        "print(label)"
      ],
      "execution_count": null,
      "outputs": [
        {
          "output_type": "stream",
          "text": [
            "Clipping input data to the valid range for imshow with RGB data ([0..1] for floats or [0..255] for integers).\n"
          ],
          "name": "stderr"
        },
        {
          "output_type": "stream",
          "text": [
            "11\n",
            "<class 'numpy.ndarray'>\n",
            "(28, 28, 3)\n",
            "(28, 28, 3)\n",
            "Bulldozer\n"
          ],
          "name": "stdout"
        },
        {
          "output_type": "display_data",
          "data": {
            "image/png": "[encoded data removed]",
            "text/plain": [
              "<Figure size 432x288 with 1 Axes>"
            ]
          },
          "metadata": {
            "tags": [],
            "needs_background": "light"
          }
        }
      ]
    }
  ]
}